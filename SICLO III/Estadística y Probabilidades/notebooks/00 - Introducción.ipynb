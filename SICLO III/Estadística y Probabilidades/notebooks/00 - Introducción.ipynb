{
 "cells": [
  {
   "cell_type": "markdown",
   "metadata": {},
   "source": [
    "# Introducción a la estádistica."
   ]
  },
  {
   "cell_type": "markdown",
   "metadata": {},
   "source": [
    "## 1. Conceptos.\n",
    "\n",
    "* **VARIABLES:**\n",
    "Es lo que se va a medir y representa una caraterística de la **Unidad de análisis**.\n",
    "\n",
    "* **Quiénes van a ser medidios?:**\n",
    "Los subjetos u objetos o Unidades de Análisis de uan Población o una Muestra.\n",
    "\n",
    "* **Población ($N$):**\n",
    "Es el total de la unidad de análisis que son tema de estudio.\n",
    "\n",
    "* **Muestra ($n$):**\n",
    "Es un conjunto de unidades de análisis provenientes de una población.\n",
    "\n",
    "### 1.1 Tipos de variables\n",
    "\n",
    "#### 1.1.1 Variables Cuantitativas.\n",
    "* **CUANTITATIVA:** \n",
    "Toma cualquier valor dentro de un intervalo\n",
    "\n",
    "* **DISCRETA:** \n",
    "Dentro de un intervalo solo se toma algunos valores.\n",
    "\n",
    "### 1.1.2 Variables Cualitativas.\n",
    "* **NOMINAL:** Carácteristica o cualidad cuyas categorias no tienen un orden preestablecido. Ejem: Sexo, deporte, favorito, etc.\n",
    "\n",
    "* **ORDINAL:** Carácteristica o cualidad cuyas categorias tienen un orden preestablecido. Ejem: Clasificación, tipo de quemadura, etc.\n",
    "\n",
    "### 1.2 Frecuencia y tipos\n",
    "Desde un conjunto de unidades, corresponde al Número de  porcentaje de veces que presenta una característica.\n",
    "\n"
   ]
  },
  {
   "cell_type": "code",
   "execution_count": null,
   "metadata": {},
   "outputs": [],
   "source": []
  }
 ],
 "metadata": {
  "kernelspec": {
   "display_name": "Julia 1.7.2",
   "language": "julia",
   "name": "julia-1.7"
  },
  "language_info": {
   "file_extension": ".jl",
   "mimetype": "application/julia",
   "name": "julia",
   "version": "1.7.2"
  },
  "orig_nbformat": 4
 },
 "nbformat": 4,
 "nbformat_minor": 2
}
